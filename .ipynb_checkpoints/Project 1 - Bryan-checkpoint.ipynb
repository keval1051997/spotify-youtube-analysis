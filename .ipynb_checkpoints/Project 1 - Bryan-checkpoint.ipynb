{
 "cells": [
  {
   "cell_type": "code",
   "execution_count": null,
   "id": "b718e992",
   "metadata": {},
   "outputs": [],
   "source": [
    "#Bryan's\n",
    "import pandas as pd\n",
    "import numpy as np\n",
    "import requests\n",
    "import json\n",
    "file_path = './resources/Spotify_Youtube.csv'\n",
    "spotify_pd = pd.read_csv(\"./resources/Spotify_Youtube.csv\", encoding=\"ISO-8859-1\")\n",
    "spotify_pd\n",
    "\n"
   ]
  }
 ],
 "metadata": {
  "kernelspec": {
   "display_name": "Python 3 (ipykernel)",
   "language": "python",
   "name": "python3"
  },
  "language_info": {
   "codemirror_mode": {
    "name": "ipython",
    "version": 3
   },
   "file_extension": ".py",
   "mimetype": "text/x-python",
   "name": "python",
   "nbconvert_exporter": "python",
   "pygments_lexer": "ipython3",
   "version": "3.11.4"
  }
 },
 "nbformat": 4,
 "nbformat_minor": 5
}
