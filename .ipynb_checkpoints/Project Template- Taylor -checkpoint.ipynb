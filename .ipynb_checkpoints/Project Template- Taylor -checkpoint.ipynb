{
 "cells": [
  {
   "cell_type": "code",
   "execution_count": null,
   "id": "dc8d1ac5",
   "metadata": {},
   "outputs": [],
   "source": [
    "#import dependencies\n",
    "import requests\n",
    "import json\n",
    "import pandas as pd\n",
    "import numpy as np\n",
    "import matplotlib.pyplot as plt\n",
    "import matplotlib.ticker as mtick \n",
    "import matplotlib.ticker as ticker\n",
    "from sklearn.linear_model import LinearRegression\n",
    "from sklearn.model_selection import train_test_split\n",
    "from matplotlib.ticker import FuncFormatter\n",
    "from matplotlib.ticker import FuncFormatter, MultipleLocator"
   ]
  },
  {
   "cell_type": "code",
   "execution_count": null,
   "id": "8ebcef93",
   "metadata": {},
   "outputs": [],
   "source": [
    "# # Replace 'YOUR_ACCESS_TOKEN' with your actual Spotify access token\n",
    "# access_token = \"BQBhFAwMYIJBm4nBvc7Rn951IbPWGzhHx44nJ9MSaK7P7FAd03x63QjrKMf6xqX26P7UYH415W__UKuawxy5el-oWdeR4Zg3a3UtBLQezZZtN_d4C1k\"\n",
    "\n",
    "# # Spotify API endpoint for the artist\n",
    "# url = \"https://api.spotify.com/v1/audio-analysis/2A6yzRGMgSQCUapR2ptm6A\"\n",
    "\n",
    "# # Set the headers with the Authorization token\n",
    "# token = {\n",
    "#     \"Authorization\": f\"Bearer {access_token}\"\n",
    "# }\n",
    "\n",
    "# # Make the GET request\n",
    "# response = requests.get(url, headers=token).json()\n",
    "\n",
    "# print(json.dumps(response, indent=4, sort_keys=True))"
   ]
  },
  {
   "cell_type": "code",
   "execution_count": null,
   "id": "8460676a",
   "metadata": {},
   "outputs": [],
   "source": [
    "data = \"./resources/Spotify_Youtube.csv\"\n",
    "spot_yt_df = pd.read_csv(data)\n",
    "spot_yt_df.head()"
   ]
  },
  {
   "cell_type": "code",
   "execution_count": null,
   "id": "9c535cc6",
   "metadata": {},
   "outputs": [],
   "source": [
    "#15 most danceable and streamed on YT and Spot\n",
    "#15 most overall popular songs on spot and YT\n",
    "#data frame for danceability against popularity - Coble\n",
    "dance_pop_df = spot_yt_df[[\"Artist\", \"Track\", \"Album\", \"Danceability\", \"Views\", \"Stream\"]]\n",
    "dance_pop_df"
   ]
  },
  {
   "cell_type": "code",
   "execution_count": null,
   "id": "019f5783",
   "metadata": {},
   "outputs": [],
   "source": [
    "#YT views vs spotify streams - Bryan\n",
    "yt_vs_spot_streams = spot_yt_df[[\"Artist\", \"Track\", \"Album\", \"Views\", \"Stream\"]]\n"
   ]
  },
  {
   "cell_type": "code",
   "execution_count": null,
   "id": "861eaada",
   "metadata": {},
   "outputs": [],
   "source": [
    "#album with the most streams on spot - Paulin\n",
    "most_streams = spot_yt_df[[\"Artist\", \"Track\", \"Album\", \"Stream\"]]\n"
   ]
  },
  {
   "cell_type": "code",
   "execution_count": null,
   "id": "75c22641",
   "metadata": {},
   "outputs": [],
   "source": [
    "#Original Spotify Youtube Data Frame (Taylor)\n",
    "spot_yt_df[[\"Album_type\",\"Artist\", \"Track\",\"Combined Views and Streams\", \"Overall Rank\",]]\n",
    "spot_yt_df"
   ]
  },
  {
   "cell_type": "code",
   "execution_count": null,
   "id": "84e89bfe",
   "metadata": {},
   "outputs": [],
   "source": [
    "#Create a single_album_df to separate it from the cleaned spot_yt_df (Taylor)\n",
    "single_album_df = spot_yt_df[[\"Artist\", \"Track\", \"Album_type\", \"Stream\", \"Views\", \"Comments\", \"Likes\"]]\n",
    "single_album_df = single_album_df.sort_values(\"Stream\", ascending=False).astype(str)\n",
    "single_album_df.head(10)"
   ]
  },
  {
   "cell_type": "code",
   "execution_count": null,
   "id": "681cb8fd",
   "metadata": {},
   "outputs": [],
   "source": [
    "#Added two columns to determine success, cleaned up the data a bit further, sorted values (Taylor)\n",
    "single_album_df = spot_yt_df[[\"Artist\", \"Track\", \"Album_type\", \"Views\", \"Stream\",\n",
    "                              \"Combined Views and Streams\", \"Overall Rank\"]]\n",
    "single_album_df = single_album_df.sort_values(\"Combined Views and Streams\", ascending=False).astype(str).reset_index(drop=True)\n",
    "single_album_df.rename(columns={\"Album_type\": \"Track_Origin\"}, inplace=True)\n",
    "single_album_df.head(20)"
   ]
  },
  {
   "cell_type": "code",
   "execution_count": null,
   "id": "f5d53d91",
   "metadata": {},
   "outputs": [],
   "source": [
    "#Filtering out to see Top 100, it collapsed the data. (Taylor)\n",
    "\n",
    "single_album_df = spot_yt_df[[\"Album_type\", \"Combined Views and Streams\", \"Overall Rank\"]]\n",
    "single_album_df = single_album_df.sort_values(\"Combined Views and Streams\", ascending=False).astype(str).reset_index(drop=True)\n",
    "single_album_df.rename(columns={\"Album_type\": \"Track_Origin\"}, inplace=True)\n",
    "single_album_df.head(100)"
   ]
  },
  {
   "cell_type": "code",
   "execution_count": null,
   "id": "edd89e15",
   "metadata": {},
   "outputs": [],
   "source": [
    "# Bar Chart created to visualize single/album and which one is more successful (Taylor)\n",
    "# Analysis Single (Blue) VS Album (Green)\n",
    "# Blue represents single's success in the overall ranked top 100 (All single's success added)\n",
    "# Green represents album's succecss in the overall ranked top 100 (All album's success added)\n",
    "# Album is more successful by about more than double. Give or take 30 billion more combined views and streams.\n",
    "# This data shows the overall top 100 consisting of both single/album. \n",
    "# Challenge - Does not account for individual data shows more of a group, which would require further cleaning and plotting.\n",
    "data = {\n",
    "    \"Track_Origin\": [\"Single\", \"Album\", \"Single\", \"Album\"],\n",
    "    \"Combined Views and Streams\": [1500000000, 3500000000, 20000000000, 50000000000]\n",
    "}\n",
    "\n",
    "# Create a DataFrame\n",
    "df = pd.DataFrame(data)\n",
    "\n",
    "# Define a custom function to format y-axis labels in billions\n",
    "def billions_formatter(x, pos):\n",
    "    return f'{x / 1e9:.0f}B'  # Format numbers in billions\n",
    "\n",
    "# Create a bar chart\n",
    "plt.figure(figsize=(8, 6))\n",
    "bars = plt.bar(df[\"Track_Origin\"], df[\"Combined Views and Streams\"])\n",
    "plt.xlabel(\"Track_Origin\")\n",
    "plt.ylabel(\"Combined Views and Streams (in Billions)\")\n",
    "plt.title(\"Top 100 Single/Album and Success\")\n",
    "\n",
    "# Use the custom billions_formatter function for y-axis labels\n",
    "y_formatter = FuncFormatter(billions_formatter)\n",
    "plt.gca().yaxis.set_major_formatter(y_formatter)\n",
    "\n",
    "# Set the color of the \"Album\" bar to green\n",
    "bars[3].set_color(\"green\")  # Index 1 corresponds to the \"Album\" bar\n",
    "\n",
    "plt.show()"
   ]
  },
  {
   "cell_type": "code",
   "execution_count": null,
   "id": "91836e65",
   "metadata": {},
   "outputs": [],
   "source": [
    "#offical video success against non official videos - compared to spotify track - Keval\n",
    "offical_video = spot_yt_df[[\"Artist\", \"Track\", \"Stream\", \"Views\", \"official_video\"]]\n"
   ]
  },
  {
   "cell_type": "code",
   "execution_count": null,
   "id": "cde9bb8d",
   "metadata": {},
   "outputs": [],
   "source": [
    "#Licensed song success against unLicensed video - compared to spotify track - Anyone\n",
    "licensed_song = spot_yt_df[[\"Artist\", \"Track\", \"Stream\", \"Views\", \"Licensed\"]]\n"
   ]
  },
  {
   "cell_type": "code",
   "execution_count": null,
   "id": "c50fb6c6",
   "metadata": {},
   "outputs": [],
   "source": [
    "#API: Genre against popularity for Spotify - Keval"
   ]
  }
 ],
 "metadata": {
  "kernelspec": {
   "display_name": "Python 3 (ipykernel)",
   "language": "python",
   "name": "python3"
  },
  "language_info": {
   "codemirror_mode": {
    "name": "ipython",
    "version": 3
   },
   "file_extension": ".py",
   "mimetype": "text/x-python",
   "name": "python",
   "nbconvert_exporter": "python",
   "pygments_lexer": "ipython3",
   "version": "3.11.4"
  }
 },
 "nbformat": 4,
 "nbformat_minor": 5
}
